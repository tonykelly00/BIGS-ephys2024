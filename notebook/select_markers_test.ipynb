{
 "cells": [
  {
   "cell_type": "markdown",
   "metadata": {},
   "source": []
  },
  {
   "cell_type": "code",
   "execution_count": null,
   "metadata": {},
   "outputs": [],
   "source": [
    "import pandas as pd\n",
    "import numpy as np"
   ]
  },
  {
   "cell_type": "markdown",
   "metadata": {},
   "source": [
    "Metadata file\n",
    "The metadata file has information about each Patch-seq cell, including its different identifiers and assigned cell types."
   ]
  },
  {
   "cell_type": "code",
   "execution_count": null,
   "metadata": {},
   "outputs": [],
   "source": [
    "metadata = pd.read_csv(\"downloads/20200711_patchseq_metadata_mouse.csv\")\n",
    "\n",
    "metadata.head()"
   ]
  },
  {
   "cell_type": "markdown",
   "metadata": {},
   "source": [
    "Transcriptomic data\n",
    "Here, we have already downloaded the (large) transcriptomic expression data file. In that file, expression is quantified as counts-per-million (cpm), and each row is a gene and each column is a cell.\n",
    "\n",
    "import the transciptomic expression data\n",
    "CHECK THIS FILE that it is the large file   "
   ]
  },
  {
   "cell_type": "code",
   "execution_count": null,
   "metadata": {},
   "outputs": [],
   "source": [
    "gene_data = pd.read_csv(\n",
    "    \"downloads/20200513_Mouse_PatchSeq_Release_cpm.v2.csv\",\n",
    "    index_col=0,\n",
    ")\n",
    "gene_data"
   ]
  },
  {
   "cell_type": "markdown",
   "metadata": {},
   "source": [
    "the select_markers.csv was not available and so need to be generated. I am trying this method\n",
    "\n",
    "the select marker file is not provided\n",
    "https://community.brain-map.org/t/question-on-patchseq-jupyter-example/1030\n",
    "\n",
    "##Tried a few different ways to generate a select markers file. They are all similar and none show similar clustering to the jupyter notebook online.\n",
    "This is not the focus of the course so move on to downloading DANDI file and exploring."
   ]
  },
  {
   "cell_type": "code",
   "execution_count": null,
   "metadata": {},
   "outputs": [],
   "source": [
    "import scanpy as sc\n",
    "\n",
    "# Assuming gene_data is your DataFrame with genes as rows and cells as columns\n",
    "adata = sc.AnnData(gene_data.T)\n",
    "\n",
    "# Ensure indices match\n",
    "metadata.index = adata.obs_names\n",
    "\n",
    "## Assuming 'cell_type' is a column in adata.obs that contains cell type annotations\n",
    "adata.obs['cell_type'] = metadata['T-type Label'].astype('category')  \n",
    "\n",
    "## Filter out groups with fewer than a minimum number of samples (e.g., 3)\n",
    "min_samples = 3\n",
    "cell_type_counts = adata.obs['cell_type'].value_counts()\n",
    "valid_cell_types = cell_type_counts[cell_type_counts >= min_samples].index\n",
    "adata = adata[adata.obs['cell_type'].isin(valid_cell_types)]\n",
    "\n",
    "# Log-transform the data\n",
    "sc.pp.log1p(adata)\n",
    "\n",
    "# # Find marker genes\n",
    "sc.tl.rank_genes_groups(adata, 'cell_type', method='t-test')\n",
    "\n",
    "# # Extract marker genes\n",
    "marker_genes = pd.DataFrame(adata.uns['rank_genes_groups']['names']).head(50)\n",
    "\n",
    "# # Save to CSV\n",
    "marker_genes.to_csv('downloads/select_markers.csv', index=False)"
   ]
  },
  {
   "cell_type": "code",
   "execution_count": null,
   "metadata": {},
   "outputs": [],
   "source": [
    "print(adata.obs['cell_type'].value_counts())\n",
    "# print(adata)\n",
    "# print(metadata['T-type Label'].value_counts())\n",
    "print(metadata['T-type Label'].index[:10])\n",
    "\n",
    "\n",
    "print(adata.obs_names[:10])  # Check the first 10 cell IDs in adata\n",
    "print(metadata.index[:10]) "
   ]
  },
  {
   "cell_type": "markdown",
   "metadata": {},
   "source": [
    "use select markers to generate umap"
   ]
  },
  {
   "cell_type": "code",
   "execution_count": null,
   "metadata": {},
   "outputs": [],
   "source": [
    "#method1\n",
    "import pandas as pd\n",
    "import umap\n",
    "import numpy as np\n",
    "\n",
    "# Read the CSV file\n",
    "marker_genes_for_umap = pd.read_csv(\"downloads/select_markers.csv\")\n",
    "\n",
    "# Melt the DataFrame to have a single column of gene names\n",
    "marker_genes_for_umap = marker_genes_for_umap.melt(value_name=\"Gene\").dropna()[\"Gene\"]\n",
    "\n",
    "# Ensure the gene names are unique\n",
    "marker_genes_for_umap = marker_genes_for_umap.drop_duplicates()\n",
    "\n",
    "# Check if the gene names exist in gene_data\n",
    "missing_genes = marker_genes_for_umap[~marker_genes_for_umap.isin(gene_data.index)]\n",
    "if not missing_genes.empty:\n",
    "    print(f\"Warning: The following genes are missing in gene_data: {missing_genes.tolist()}\")\n",
    "\n",
    "# Proceed with UMAP embedding\n",
    "embedding = umap.UMAP(n_neighbors=25).fit_transform(\n",
    "    np.log2(gene_data.loc[marker_genes_for_umap, :].values.T + 1)\n",
    ")\n",
    "\n"
   ]
  },
  {
   "cell_type": "code",
   "execution_count": null,
   "metadata": {},
   "outputs": [],
   "source": [
    "#method 2\n",
    "import pandas as pd\n",
    "import umap\n",
    "import numpy as np\n",
    "\n",
    "# Read the CSV file\n",
    "marker_genes_for_umap = pd.read_csv(\"downloads/select_markers.csv\")\n",
    "\n",
    "# Initialize an empty list to store the genes\n",
    "ordered_genes = []\n",
    "\n",
    "# Iterate through each cell type column\n",
    "for cell_type in marker_genes_for_umap.columns:\n",
    "    genes = marker_genes_for_umap[cell_type].dropna().tolist()\n",
    "    ordered_genes.extend(genes)\n",
    "\n",
    "# Ensure the gene names are unique while maintaining order\n",
    "ordered_genes = pd.unique(ordered_genes)\n",
    "\n",
    "# Check if the gene names exist in gene_data\n",
    "missing_genes = [gene for gene in ordered_genes if gene not in gene_data.index]\n",
    "if missing_genes:\n",
    "    print(f\"Warning: The following genes are missing in gene_data: {missing_genes}\")\n",
    "\n",
    "# Proceed with UMAP embedding\n",
    "embedding = umap.UMAP(n_neighbors=25).fit_transform(\n",
    "    np.log2(gene_data.loc[ordered_genes, :].values.T + 1)\n",
    ")\n"
   ]
  },
  {
   "cell_type": "markdown",
   "metadata": {},
   "source": [
    "both methods produce same umap"
   ]
  },
  {
   "cell_type": "markdown",
   "metadata": {},
   "source": [
    "Plot the umap"
   ]
  },
  {
   "cell_type": "code",
   "execution_count": null,
   "metadata": {},
   "outputs": [],
   "source": [
    "import matplotlib.pyplot as plt\n",
    "import seaborn as sns\n",
    "\n",
    "%matplotlib inline  \n",
    "plt.figure(figsize=(8, 8))\n",
    "plt.scatter(*embedding.T, s=1, edgecolor=\"none\")\n",
    "sns.despine()"
   ]
  }
 ],
 "metadata": {
  "kernelspec": {
   "display_name": "base",
   "language": "python",
   "name": "python3"
  },
  "language_info": {
   "codemirror_mode": {
    "name": "ipython",
    "version": 3
   },
   "file_extension": ".py",
   "mimetype": "text/x-python",
   "name": "python",
   "nbconvert_exporter": "python",
   "pygments_lexer": "ipython3",
   "version": "3.11.5"
  }
 },
 "nbformat": 4,
 "nbformat_minor": 2
}
