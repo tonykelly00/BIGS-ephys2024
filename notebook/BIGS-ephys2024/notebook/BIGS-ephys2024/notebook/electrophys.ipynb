{
 "cells": [
  {
   "cell_type": "markdown",
   "metadata": {},
   "source": [
    "Electrophysiology\n",
    "Let's get the NWB file that has the electrophysiology data for this cell and use the IPFX library to process it."
   ]
  },
  {
   "cell_type": "code",
   "execution_count": null,
   "metadata": {},
   "outputs": [],
   "source": [
    "my_specimen_id = my_ttype_with_recon_metadata.iloc[0, :][\"cell_specimen_id\"]\n",
    "\n",
    "nwb_urls = file_manifest.loc[\n",
    "    (file_manifest[\"cell_specimen_id\"] == float(my_specimen_id)) &\n",
    "    (file_manifest[\"file_type\"] == \"nwb\"),\n",
    "    :\n",
    "]"
   ]
  }
 ],
 "metadata": {
  "language_info": {
   "name": "python"
  }
 },
 "nbformat": 4,
 "nbformat_minor": 2
}
