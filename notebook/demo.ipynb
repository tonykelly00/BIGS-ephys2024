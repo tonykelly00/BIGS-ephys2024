{
 "cells": [
  {
   "cell_type": "markdown",
   "metadata": {},
   "source": [
    "#data from\n",
    " https://brainmapportal-live-4cc80a57cd6e400d854-f7fdcae.divio-media.net/filer_public/94/2b/942bdfbc-89cb-4414-9eda-a348fadef841/mouse_patch-seq_demo.html\n"
   ]
  },
  {
   "cell_type": "code",
   "execution_count": null,
   "metadata": {},
   "outputs": [],
   "source": [
    "import numpy as np\n",
    "import pandas as pd\n",
    "import matplotlib.pyplot as plt\n",
    "import seaborn as sns\n",
    "\n",
    "\n",
    "import sys\n",
    "\n",
    "sys.path.append(\"../src\")\n",
    "sys.path.append(\"../downloads\")"
   ]
  },
  {
   "cell_type": "markdown",
   "metadata": {},
   "source": [
    "Metadata file\n",
    "The metadata file has information about each Patch-seq cell, including its different identifiers and assigned cell types."
   ]
  },
  {
   "cell_type": "code",
   "execution_count": null,
   "metadata": {},
   "outputs": [],
   "source": [
    "metadata = pd.read_csv(\"../downloads/20200711_patchseq_metadata_mouse.csv\")\n",
    "\n",
    "metadata.head()"
   ]
  },
  {
   "cell_type": "markdown",
   "metadata": {},
   "source": [
    "File manifest\n",
    "The file manifest contains URLs for the different data files associated with the Patch-seq cells that are located in various archives."
   ]
  },
  {
   "cell_type": "code",
   "execution_count": null,
   "metadata": {},
   "outputs": [],
   "source": [
    "#change - file is actually an xcel\n",
    "file_manifest = pd.read_excel(\"../downloads/2021-09-13_mouse_file_manifest.xlsx\")\n",
    "file_manifest.head()"
   ]
  },
  {
   "cell_type": "markdown",
   "metadata": {},
   "source": [
    "Transcriptomic data\n",
    "Here, we have already downloaded the (large) transcriptomic expression data file. In that file, expression is quantified as counts-per-million (cpm), and each row is a gene and each column is a cell."
   ]
  },
  {
   "cell_type": "code",
   "execution_count": null,
   "metadata": {},
   "outputs": [],
   "source": [
    "gene_data = pd.read_csv(\n",
    "    \"../downloads/20200513_Mouse_PatchSeq_Release_cpm.v2.csv\",\n",
    "    index_col=0,\n",
    ")"
   ]
  },
  {
   "cell_type": "code",
   "execution_count": null,
   "metadata": {},
   "outputs": [],
   "source": [
    "gene_data"
   ]
  },
  {
   "cell_type": "markdown",
   "metadata": {},
   "source": [
    "Let's create a 2D projection of the data using the transcriptomic data to see the structure of the different subclasses and types. We will transform the data, then use the UMAP algorithm to create a nonlinear embedding of a subset of the differentially expressed genes.\n",
    "\n",
    "the select_markers.csv was not available and so need to be generated. I am trying this method\n",
    "\n"
   ]
  },
  {
   "cell_type": "code",
   "execution_count": null,
   "metadata": {},
   "outputs": [],
   "source": [
    "import umap\n",
    "\n",
    "marker_genes_for_umap = pd.read_csv(\"../downloads/select_markers.csv\", index_col=0)\n",
    "\n",
    "#need to modify select_markers so it is single column, unique and confirm exsist in gene_data see generate_select markers py\n",
    "embedding = umap.UMAP(n_neighbors=25).fit_transform(\n",
    "    np.log2(gene_data.loc[marker_genes_for_umap[\"Gene\"], :].values.T + 1)\n",
    ")"
   ]
  },
  {
   "cell_type": "code",
   "execution_count": null,
   "metadata": {},
   "outputs": [],
   "source": [
    "import matplotlib.pyplot as plt\n",
    "import seaborn as sns\n",
    "\n",
    "%matplotlib inline"
   ]
  },
  {
   "cell_type": "code",
   "execution_count": null,
   "metadata": {},
   "outputs": [],
   "source": [
    "plt.figure(figsize=(8, 8))\n",
    "plt.scatter(*embedding.T, s=1, edgecolor=\"none\")\n",
    "sns.despine()"
   ]
  },
  {
   "cell_type": "markdown",
   "metadata": {},
   "source": [
    "We can see where specific types fall in this embedding by using the metadata to identify specific cells."
   ]
  },
  {
   "cell_type": "code",
   "execution_count": null,
   "metadata": {},
   "outputs": [],
   "source": [
    "# Identify the cells from a particular t-type (Lamp5 Plch2 Dock5)\n",
    "my_ttype_metadata = metadata.loc[metadata[\"T-type Label\"] == \"Lamp5 Plch2 Dock5\", :]\n",
    "\n",
    "my_ttype_metadata"
   ]
  },
  {
   "cell_type": "code",
   "execution_count": null,
   "metadata": {},
   "outputs": [],
   "source": [
    "my_ttype_mask = gene_data.columns.isin(my_ttype_metadata[\"transcriptomics_sample_id\"].tolist())\n",
    "\n",
    "plt.figure(figsize=(8, 8))\n",
    "plt.scatter(*embedding.T, s=1, edgecolor=\"none\")\n",
    "plt.scatter(*embedding[my_ttype_mask, :].T, s=2, edgecolor=\"none\")\n",
    "sns.despine()"
   ]
  },
  {
   "cell_type": "markdown",
   "metadata": {},
   "source": [
    "We can also look at how expression of a particular gene varies across types in this embedding."
   ]
  },
  {
   "cell_type": "markdown",
   "metadata": {},
   "source": [
    "We can also look at how expression of a particular gene varies across types in this embedding."
   ]
  },
  {
   "cell_type": "code",
   "execution_count": null,
   "metadata": {},
   "outputs": [],
   "source": [
    "plt.figure(figsize=(8, 8))\n",
    "plt.scatter(\n",
    "    *embedding.T,\n",
    "    s=1,\n",
    "    c=gene_data.loc[\"Npy\", :].values,\n",
    "    vmin=0,\n",
    "    vmax=5e3,\n",
    "    cmap=\"viridis\",\n",
    "    edgecolor=\"none\"\n",
    ")"
   ]
  },
  {
   "cell_type": "markdown",
   "metadata": {},
   "source": [
    "Finding cells with electrophysiology and morphology"
   ]
  },
  {
   "cell_type": "code",
   "execution_count": null,
   "metadata": {},
   "outputs": [],
   "source": [
    "my_ttype_with_recon_metadata = metadata.loc[\n",
    "    (metadata[\"T-type Label\"] == \"Lamp5 Plch2 Dock5\") &\n",
    "    (metadata[\"neuron_reconstruction_type\"].isin([\"full\"])),\n",
    "    :]"
   ]
  },
  {
   "cell_type": "code",
   "execution_count": null,
   "metadata": {},
   "outputs": [],
   "source": [
    "my_ttype_with_recon_metadata.iloc[0, :]"
   ]
  },
  {
   "cell_type": "markdown",
   "metadata": {},
   "source": [
    "Electrophysiology\n",
    "Let's get the NWB file that has the electrophysiology data for this cell and use the IPFX library to process it."
   ]
  },
  {
   "cell_type": "code",
   "execution_count": null,
   "metadata": {},
   "outputs": [],
   "source": [
    "my_specimen_id = my_ttype_with_recon_metadata.iloc[0, :][\"cell_specimen_id\"]\n",
    "\n",
    "nwb_urls = file_manifest.loc[\n",
    "    (file_manifest[\"cell_specimen_id\"] == float(my_specimen_id)) &\n",
    "    (file_manifest[\"file_type\"] == \"nwb\"),\n",
    "    :\n",
    "]"
   ]
  },
  {
   "cell_type": "code",
   "execution_count": null,
   "metadata": {},
   "outputs": [],
   "source": [
    "nwb_urls[\"archive_uri\"].values[0]"
   ]
  },
  {
   "cell_type": "code",
   "execution_count": null,
   "metadata": {},
   "outputs": [],
   "source": [
    "!dandi download https://api.dandiarchive.org/api/assets/5a0d8719-3b7c-41f7-b235-3640d3f242e7/download/"
   ]
  },
  {
   "cell_type": "code",
   "execution_count": null,
   "metadata": {},
   "outputs": [],
   "source": [
    "nwb_path = nwb_urls[\"file_name\"].values[0]\n",
    "nwb_path"
   ]
  },
  {
   "cell_type": "code",
   "execution_count": null,
   "metadata": {},
   "outputs": [],
   "source": [
    "from ipfx.dataset.create import create_ephys_data_set\n",
    "from ipfx.data_set_features import extract_data_set_features\n",
    "from ipfx.utilities import drop_failed_sweeps\n",
    "\n",
    "data_set = create_ephys_data_set(nwb_file=nwb_path)\n",
    "drop_failed_sweeps(data_set)\n",
    "cell_features, sweep_features, cell_record, sweep_records, _, _ = \\\n",
    "    extract_data_set_features(data_set, subthresh_min_amp=-100.0)"
   ]
  },
  {
   "cell_type": "code",
   "execution_count": null,
   "metadata": {},
   "outputs": [],
   "source": [
    "cell_features.keys()"
   ]
  },
  {
   "cell_type": "code",
   "execution_count": null,
   "metadata": {},
   "outputs": [],
   "source": [
    "cell_features[\"long_squares\"].keys()"
   ]
  },
  {
   "cell_type": "code",
   "execution_count": null,
   "metadata": {},
   "outputs": [],
   "source": [
    "cell_features[\"long_squares\"][\"rheobase_sweep\"]"
   ]
  },
  {
   "cell_type": "code",
   "execution_count": null,
   "metadata": {},
   "outputs": [],
   "source": [
    "cell_features[\"long_squares\"][\"rheobase_sweep\"][\"latency\"]\n",
    "df=cell_features[\"long_squares\"]"
   ]
  },
  {
   "cell_type": "code",
   "execution_count": null,
   "metadata": {},
   "outputs": [],
   "source": [
    "swp = data_set.sweep(cell_features[\"long_squares\"][\"rheobase_sweep\"][\"sweep_number\"])\n",
    "\n",
    "swp = data_set.sweep(10)"
   ]
  },
  {
   "cell_type": "code",
   "execution_count": null,
   "metadata": {},
   "outputs": [],
   "source": [
    "plt.figure(figsize=(10, 6))\n",
    "\n",
    "plt.plot(swp.t, swp.v)\n",
    "plt.xlabel(\"time (s)\", fontsize=16)\n",
    "plt.ylabel(\"membrane potential (mV)\", fontsize=16)\n",
    "sns.despine()"
   ]
  },
  {
   "cell_type": "markdown",
   "metadata": {},
   "source": [
    "Morphology\n",
    "Now we'll get the SWC file that has the morphological reconstruction of this cell and use the neuron_morphology library to process it."
   ]
  },
  {
   "cell_type": "code",
   "execution_count": null,
   "metadata": {},
   "outputs": [],
   "source": [
    "swc_urls = file_manifest.loc[\n",
    "    (file_manifest[\"cell_specimen_id\"] == float(my_specimen_id)) &\n",
    "    (file_manifest[\"file_type\"] == \"transformed_swc\"),\n",
    "    :\n",
    "]"
   ]
  },
  {
   "cell_type": "code",
   "execution_count": null,
   "metadata": {},
   "outputs": [],
   "source": [
    "swc_urls[\"archive_uri\"].values[0]"
   ]
  },
  {
   "cell_type": "code",
   "execution_count": null,
   "metadata": {},
   "outputs": [],
   "source": [
    "!wget ftp://download.brainlib.org:8811/biccn/zeng/pseq/morph/200526/645169930_transformed.swc"
   ]
  }
 ],
 "metadata": {
  "kernelspec": {
   "display_name": "base",
   "language": "python",
   "name": "python3"
  },
  "language_info": {
   "codemirror_mode": {
    "name": "ipython",
    "version": 3
   },
   "file_extension": ".py",
   "mimetype": "text/x-python",
   "name": "python",
   "nbconvert_exporter": "python",
   "pygments_lexer": "ipython3",
   "version": "3.11.5"
  }
 },
 "nbformat": 4,
 "nbformat_minor": 2
}
